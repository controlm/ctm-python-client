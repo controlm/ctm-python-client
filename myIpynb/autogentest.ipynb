{
 "cells": [
  {
   "cell_type": "code",
   "execution_count": 1,
   "id": "2f303510",
   "metadata": {},
   "outputs": [
    {
     "ename": "NameError",
     "evalue": "name 'ConnectionProfileAISimpleplugin' is not defined",
     "output_type": "error",
     "traceback": [
      "\u001b[31m---------------------------------------------------------------------------\u001b[39m",
      "\u001b[31mNameError\u001b[39m                                 Traceback (most recent call last)",
      "\u001b[36mCell\u001b[39m\u001b[36m \u001b[39m\u001b[32mIn[1]\u001b[39m\u001b[32m, line 11\u001b[39m\n\u001b[32m      5\u001b[39m \u001b[38;5;28;01mfrom\u001b[39;00m\u001b[38;5;250m \u001b[39m\u001b[34;01maapi\u001b[39;00m\u001b[34;01m.\u001b[39;00m\u001b[34;01mjob\u001b[39;00m\u001b[38;5;250m \u001b[39m\u001b[38;5;28;01mimport\u001b[39;00m *\n\u001b[32m      8\u001b[39m w = Workflow(Environment.create_workbench(\u001b[33m'\u001b[39m\u001b[33mworkbench\u001b[39m\u001b[33m'\u001b[39m),\n\u001b[32m      9\u001b[39m              WorkflowDefaults(run_as=\u001b[33m'\u001b[39m\u001b[33mworkbench\u001b[39m\u001b[33m'\u001b[39m))\n\u001b[32m---> \u001b[39m\u001b[32m11\u001b[39m cp = \u001b[43mConnectionProfileAISimpleplugin\u001b[49m(\n\u001b[32m     12\u001b[39m     \u001b[33m\"\u001b[39m\u001b[33mSIMPLEPLUGINCP\u001b[39m\u001b[33m\"\u001b[39m, host=\u001b[33m\"\u001b[39m\u001b[33msomehost\u001b[39m\u001b[33m\"\u001b[39m, machine_password=\u001b[33m\"\u001b[39m\u001b[33mpasswd\u001b[39m\u001b[33m\"\u001b[39m)\n\u001b[32m     14\u001b[39m job = AIJobSimpleplugin(\u001b[33m\"\u001b[39m\u001b[33mJobSimplePlugin\u001b[39m\u001b[33m\"\u001b[39m, connection_profile=\u001b[33m\"\u001b[39m\u001b[33mSIMPLEPLUGINCP\u001b[39m\u001b[33m\"\u001b[39m,\n\u001b[32m     15\u001b[39m                         user=\u001b[33m\"\u001b[39m\u001b[33mmyuser\u001b[39m\u001b[33m\"\u001b[39m, connection_type=\u001b[33m\"\u001b[39m\u001b[33mADMIN\u001b[39m\u001b[33m\"\u001b[39m)\n\u001b[32m     18\u001b[39m cp = ConnectionProfileAISimpleplugin(\n\u001b[32m     19\u001b[39m     \u001b[33m\"\u001b[39m\u001b[33mSIMPLEPLUGINCP\u001b[39m\u001b[33m\"\u001b[39m, host=\u001b[33m\"\u001b[39m\u001b[33msomehost\u001b[39m\u001b[33m\"\u001b[39m, machine_password=\u001b[33m\"\u001b[39m\u001b[33mpasswd\u001b[39m\u001b[33m\"\u001b[39m, centralized=\u001b[38;5;28;01mTrue\u001b[39;00m)\n",
      "\u001b[31mNameError\u001b[39m: name 'ConnectionProfileAISimpleplugin' is not defined"
     ]
    }
   ],
   "source": [
    "import sys\n",
    "from ctm_python_client.core.workflow import Workflow, WorkflowDefaults\n",
    "from ctm_python_client.core.comm import Environment\n",
    "from generated import *\n",
    "from aapi.job import *\n",
    "\n",
    "\n",
    "w = Workflow(Environment.create_workbench('workbench'),\n",
    "             WorkflowDefaults(run_as='workbench'))\n",
    "\n",
    "cp = ConnectionProfileAISimpleplugin(\n",
    "    \"SIMPLEPLUGINCP\", host=\"somehost\", machine_password=\"passwd\")\n",
    "\n",
    "job = AIJobSimpleplugin(\"JobSimplePlugin\", connection_profile=\"SIMPLEPLUGINCP\",\n",
    "                        user=\"myuser\", connection_type=\"ADMIN\")\n",
    "\n",
    "\n",
    "cp = ConnectionProfileAISimpleplugin(\n",
    "    \"SIMPLEPLUGINCP\", host=\"somehost\", machine_password=\"passwd\", centralized=True)\n",
    "job = AIJobSimpleplugin(\"JobSimplePlugin\", connection_profile=\"SIMPLEPLUGINCP\",\n",
    "                        user=\"myuser\", connection_type=\"ADMIN\")\n",
    "\n",
    "\n",
    "w.clear_all()\n",
    "w.add(cp)\n",
    "job = w.add(job, inpath=\"FolderTestAI\")\n",
    "\n",
    "run = w.run()\n",
    "\n",
    "good = 'echo \"myuser\" connection type \"ADMIN\"' in run.get_output(job)\n",
    "sys.exit(0 if good else 1)\n"
   ]
  }
 ],
 "metadata": {
  "kernelspec": {
   "display_name": "venv",
   "language": "python",
   "name": "python3"
  },
  "language_info": {
   "codemirror_mode": {
    "name": "ipython",
    "version": 3
   },
   "file_extension": ".py",
   "mimetype": "text/x-python",
   "name": "python",
   "nbconvert_exporter": "python",
   "pygments_lexer": "ipython3",
   "version": "3.12.6"
  }
 },
 "nbformat": 4,
 "nbformat_minor": 5
}
