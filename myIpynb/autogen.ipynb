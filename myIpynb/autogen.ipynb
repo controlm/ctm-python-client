{
 "cells": [
  {
   "cell_type": "code",
   "execution_count": 1,
   "id": "945d98ae",
   "metadata": {},
   "outputs": [
    {
     "ename": "FileNotFoundError",
     "evalue": "[Errno 2] No such file or directory: '${ResourcesDir}/ctm-python-client/generated.py'",
     "output_type": "error",
     "traceback": [
      "\u001b[31m---------------------------------------------------------------------------\u001b[39m",
      "\u001b[31mFileNotFoundError\u001b[39m                         Traceback (most recent call last)",
      "\u001b[36mCell\u001b[39m\u001b[36m \u001b[39m\u001b[32mIn[1]\u001b[39m\u001b[32m, line 3\u001b[39m\n\u001b[32m      1\u001b[39m \u001b[38;5;28;01mfrom\u001b[39;00m\u001b[38;5;250m \u001b[39m\u001b[34;01mctm_python_client\u001b[39;00m\u001b[34;01m.\u001b[39;00m\u001b[34;01mext\u001b[39;00m\u001b[34;01m.\u001b[39;00m\u001b[34;01mautogen\u001b[39;00m\u001b[38;5;250m \u001b[39m\u001b[38;5;28;01mimport\u001b[39;00m *\n\u001b[32m----> \u001b[39m\u001b[32m3\u001b[39m \u001b[43mgenerate_ai_plugins_classes\u001b[49m\u001b[43m(\u001b[49m\u001b[33;43m'\u001b[39;49m\u001b[33;43mworkbench\u001b[39;49m\u001b[33;43m'\u001b[39;49m\u001b[43m,\u001b[49m\u001b[43m \u001b[49m\u001b[43moutput_file\u001b[49m\u001b[43m=\u001b[49m\u001b[33;43m'\u001b[39;49m\u001b[33;43m$\u001b[39;49m\u001b[38;5;132;43;01m{ResourcesDir}\u001b[39;49;00m\u001b[33;43m/ctm-python-client/generated.py\u001b[39;49m\u001b[33;43m'\u001b[39;49m\u001b[43m)\u001b[49m\n",
      "\u001b[36mFile \u001b[39m\u001b[32mC:\\projects\\ctm-python-client\\src\\ctm_python_client\\ext\\autogen.py:191\u001b[39m, in \u001b[36mgenerate_ai_plugins_classes\u001b[39m\u001b[34m(host, port, output_file)\u001b[39m\n\u001b[32m    189\u001b[39m plugins = get_all_plugins(host=host, port=port, exlude_list=IF_PLUGINS)\n\u001b[32m    190\u001b[39m definitions = [create_ai_custom_definitions(plugin) \u001b[38;5;28;01mfor\u001b[39;00m plugin \u001b[38;5;129;01min\u001b[39;00m plugins]\n\u001b[32m--> \u001b[39m\u001b[32m191\u001b[39m \u001b[38;5;28;01mwith\u001b[39;00m \u001b[38;5;28;43mopen\u001b[39;49m\u001b[43m(\u001b[49m\u001b[43moutput_file\u001b[49m\u001b[43m,\u001b[49m\u001b[43m \u001b[49m\u001b[33;43m'\u001b[39;49m\u001b[33;43mw\u001b[39;49m\u001b[33;43m'\u001b[39;49m\u001b[43m)\u001b[49m \u001b[38;5;28;01mas\u001b[39;00m f:\n\u001b[32m    192\u001b[39m     f.write(imports_str)\n\u001b[32m    194\u001b[39m     \u001b[38;5;28;01mfor\u001b[39;00m definition \u001b[38;5;129;01min\u001b[39;00m definitions:\n",
      "\u001b[31mFileNotFoundError\u001b[39m: [Errno 2] No such file or directory: '${ResourcesDir}/ctm-python-client/generated.py'"
     ]
    }
   ],
   "source": [
    "from ctm_python_client.ext.autogen import *\n",
    "\n",
    "generate_ai_plugins_classes('workbench', output_file='${ResourcesDir}/ctm-python-client/generated.py')"
   ]
  }
 ],
 "metadata": {
  "kernelspec": {
   "display_name": "venv",
   "language": "python",
   "name": "python3"
  },
  "language_info": {
   "codemirror_mode": {
    "name": "ipython",
    "version": 3
   },
   "file_extension": ".py",
   "mimetype": "text/x-python",
   "name": "python",
   "nbconvert_exporter": "python",
   "pygments_lexer": "ipython3",
   "version": "3.12.6"
  }
 },
 "nbformat": 4,
 "nbformat_minor": 5
}
