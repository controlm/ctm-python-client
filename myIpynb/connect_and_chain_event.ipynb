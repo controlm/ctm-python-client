{
 "cells": [
  {
   "cell_type": "code",
   "execution_count": 2,
   "metadata": {},
   "outputs": [
    {
     "name": "stdout",
     "output_type": "stream",
     "text": [
      "shachar\n"
     ]
    },
    {
     "ename": "Exception",
     "evalue": "Cannot get job_id for MyJob1",
     "output_type": "error",
     "traceback": [
      "\u001b[31m---------------------------------------------------------------------------\u001b[39m",
      "\u001b[31mIndexError\u001b[39m                                Traceback (most recent call last)",
      "\u001b[36mFile \u001b[39m\u001b[32mC:\\projects\\ctm-python-client\\src\\ctm_python_client\\core\\monitoring.py:370\u001b[39m, in \u001b[36mRunMonitor.get_jobid\u001b[39m\u001b[34m(self, job_name)\u001b[39m\n\u001b[32m    369\u001b[39m     \u001b[38;5;28mprint\u001b[39m(\u001b[33m\"\u001b[39m\u001b[33mshachar\u001b[39m\u001b[33m\"\u001b[39m)\n\u001b[32m--> \u001b[39m\u001b[32m370\u001b[39m     \u001b[38;5;28;01mreturn\u001b[39;00m \u001b[43m[\u001b[49m\n\u001b[32m    371\u001b[39m \u001b[43m        \u001b[49m\u001b[43mo\u001b[49m\u001b[43m \u001b[49m\u001b[38;5;28;43;01mfor\u001b[39;49;00m\u001b[43m \u001b[49m\u001b[43mo\u001b[49m\u001b[43m \u001b[49m\u001b[38;5;129;43;01min\u001b[39;49;00m\u001b[43m \u001b[49m\u001b[43mres\u001b[49m\u001b[43m.\u001b[49m\u001b[43mstatuses\u001b[49m\u001b[43m \u001b[49m\u001b[38;5;28;43;01mif\u001b[39;49;00m\u001b[43m \u001b[49m\u001b[43mcond\u001b[49m\u001b[43m(\u001b[49m\u001b[43mo\u001b[49m\u001b[43m)\u001b[49m\n\u001b[32m    372\u001b[39m \u001b[43m    \u001b[49m\u001b[43m]\u001b[49m\u001b[43m[\u001b[49m\u001b[32;43m0\u001b[39;49m\u001b[43m]\u001b[49m.job_id\n\u001b[32m    373\u001b[39m \u001b[38;5;28;01mexcept\u001b[39;00m \u001b[38;5;167;01mException\u001b[39;00m \u001b[38;5;28;01mas\u001b[39;00m e:\n",
      "\u001b[31mIndexError\u001b[39m: list index out of range",
      "\nDuring handling of the above exception, another exception occurred:\n",
      "\u001b[31mException\u001b[39m                                 Traceback (most recent call last)",
      "\u001b[36mCell\u001b[39m\u001b[36m \u001b[39m\u001b[32mIn[2]\u001b[39m\u001b[32m, line 17\u001b[39m\n\u001b[32m      8\u001b[39m workflow.chain(\n\u001b[32m      9\u001b[39m     [\n\u001b[32m     10\u001b[39m         JobDummy(\u001b[33m'\u001b[39m\u001b[33mDummy\u001b[39m\u001b[33m'\u001b[39m),\n\u001b[32m   (...)\u001b[39m\u001b[32m     14\u001b[39m     inpath=\u001b[33m'\u001b[39m\u001b[33mTestJobDummy\u001b[39m\u001b[33m'\u001b[39m\n\u001b[32m     15\u001b[39m )\n\u001b[32m     16\u001b[39m run = workflow.run()\n\u001b[32m---> \u001b[39m\u001b[32m17\u001b[39m \u001b[43mrun\u001b[49m\u001b[43m.\u001b[49m\u001b[43mprint_output\u001b[49m\u001b[43m(\u001b[49m\u001b[33;43m'\u001b[39;49m\u001b[33;43mMyJob1\u001b[39;49m\u001b[33;43m'\u001b[39;49m\u001b[43m)\u001b[49m\n\u001b[32m     19\u001b[39m workflow.clear_all()\n\u001b[32m     21\u001b[39m firstjob = workflow.add(\n\u001b[32m     22\u001b[39m     JobCommand(\u001b[33m'\u001b[39m\u001b[33mMyFirstJob\u001b[39m\u001b[33m'\u001b[39m, command=\u001b[33m'\u001b[39m\u001b[33mecho \u001b[39m\u001b[33m\"\u001b[39m\u001b[33mI come first\u001b[39m\u001b[33m\"\u001b[39m\u001b[33m'\u001b[39m),\n\u001b[32m     23\u001b[39m     inpath=\u001b[33m'\u001b[39m\u001b[33mMyFolder\u001b[39m\u001b[33m'\u001b[39m\n\u001b[32m     24\u001b[39m )\n",
      "\u001b[36mFile \u001b[39m\u001b[32mC:\\projects\\ctm-python-client\\src\\ctm_python_client\\core\\monitoring.py:234\u001b[39m, in \u001b[36mRunMonitor.print_output\u001b[39m\u001b[34m(self, job_name, run_number)\u001b[39m\n\u001b[32m    229\u001b[39m \u001b[38;5;28;01mdef\u001b[39;00m\u001b[38;5;250m \u001b[39m\u001b[34mprint_output\u001b[39m(\u001b[38;5;28mself\u001b[39m, job_name: \u001b[38;5;28mstr\u001b[39m, run_number: \u001b[38;5;28mint\u001b[39m = \u001b[32m0\u001b[39m):\n\u001b[32m    230\u001b[39m \u001b[38;5;250m    \u001b[39m\u001b[33;03m'''\u001b[39;00m\n\u001b[32m    231\u001b[39m \u001b[33;03m    Print the output of a job describing all actions regarding the job execution.\u001b[39;00m\n\u001b[32m    232\u001b[39m \n\u001b[32m    233\u001b[39m \u001b[33;03m    '''\u001b[39;00m\n\u001b[32m--> \u001b[39m\u001b[32m234\u001b[39m     \u001b[38;5;28mprint\u001b[39m(\u001b[38;5;28;43mself\u001b[39;49m\u001b[43m.\u001b[49m\u001b[43mget_output\u001b[49m\u001b[43m(\u001b[49m\u001b[43mjob_name\u001b[49m\u001b[43m,\u001b[49m\u001b[43m \u001b[49m\u001b[43mrun_number\u001b[49m\u001b[43m=\u001b[49m\u001b[43mrun_number\u001b[49m\u001b[43m)\u001b[49m)\n",
      "\u001b[36mFile \u001b[39m\u001b[32mC:\\projects\\ctm-python-client\\src\\ctm_python_client\\core\\monitoring.py:216\u001b[39m, in \u001b[36mRunMonitor.get_output\u001b[39m\u001b[34m(self, job_name, run_number)\u001b[39m\n\u001b[32m    210\u001b[39m \u001b[38;5;28;01mdef\u001b[39;00m\u001b[38;5;250m \u001b[39m\u001b[34mget_output\u001b[39m(\u001b[38;5;28mself\u001b[39m, job_name: \u001b[38;5;28mstr\u001b[39m, run_number: \u001b[38;5;28mint\u001b[39m = \u001b[32m0\u001b[39m) -> \u001b[38;5;28mstr\u001b[39m:\n\u001b[32m    211\u001b[39m \u001b[38;5;250m    \u001b[39m\u001b[33;03m'''\u001b[39;00m\n\u001b[32m    212\u001b[39m \u001b[33;03m    Get the output of a job describing all actions regarding the job execution.\u001b[39;00m\n\u001b[32m    213\u001b[39m \u001b[33;03m    If not applicable, it returns None.               \u001b[39;00m\n\u001b[32m    214\u001b[39m \u001b[33;03m    '''\u001b[39;00m\n\u001b[32m--> \u001b[39m\u001b[32m216\u001b[39m     job_id = \u001b[38;5;28;43mself\u001b[39;49m\u001b[43m.\u001b[49m\u001b[43mget_jobid\u001b[49m\u001b[43m(\u001b[49m\u001b[43mjob_name\u001b[49m\u001b[43m)\u001b[49m\n\u001b[32m    218\u001b[39m     \u001b[38;5;28;01mtry\u001b[39;00m:\n\u001b[32m    219\u001b[39m         res = \u001b[38;5;28msuper\u001b[39m().get_output(job_id=job_id, run_number=run_number)\n",
      "\u001b[36mFile \u001b[39m\u001b[32mC:\\projects\\ctm-python-client\\src\\ctm_python_client\\core\\monitoring.py:375\u001b[39m, in \u001b[36mRunMonitor.get_jobid\u001b[39m\u001b[34m(self, job_name)\u001b[39m\n\u001b[32m    373\u001b[39m \u001b[38;5;28;01mexcept\u001b[39;00m \u001b[38;5;167;01mException\u001b[39;00m \u001b[38;5;28;01mas\u001b[39;00m e:\n\u001b[32m    374\u001b[39m     \u001b[38;5;28;01mif\u001b[39;00m \u001b[38;5;28misinstance\u001b[39m(e, \u001b[38;5;167;01mIndexError\u001b[39;00m):\n\u001b[32m--> \u001b[39m\u001b[32m375\u001b[39m         \u001b[38;5;28;01mraise\u001b[39;00m \u001b[38;5;167;01mException\u001b[39;00m(\u001b[33mf\u001b[39m\u001b[33m'\u001b[39m\u001b[33mCannot get job_id for \u001b[39m\u001b[38;5;132;01m{\u001b[39;00mjob_name\u001b[38;5;132;01m}\u001b[39;00m\u001b[33m'\u001b[39m)\n\u001b[32m    376\u001b[39m     \u001b[38;5;28;01mraise\u001b[39;00m e\n",
      "\u001b[31mException\u001b[39m: Cannot get job_id for MyJob1"
     ]
    }
   ],
   "source": [
    "from ctm_python_client.core.workflow import Workflow, WorkflowDefaults\n",
    "from ctm_python_client.core.comm import Environment\n",
    "from aapi import *\n",
    "\n",
    "workflow = Workflow(Environment.create_workbench('workbench'), WorkflowDefaults(run_as='workbench'))\n",
    "\n",
    "workflow.clear_all()\n",
    "workflow.chain(\n",
    "    [\n",
    "        JobDummy('Dummy'),\n",
    "        JobCommand('MyJob1', command='echo \"Hello\"'),\n",
    "        JobCommand('MyJob2', command='echo \"Hello2\"'),\n",
    "    ],\n",
    "    inpath='TestJobDummy'\n",
    ")\n",
    "run = workflow.run()\n",
    "run.print_output('MyJob1')\n",
    "\n",
    "workflow.clear_all()\n",
    "\n",
    "firstjob = workflow.add(\n",
    "    JobCommand('MyFirstJob', command='echo \"I come first\"'),\n",
    "    inpath='MyFolder'\n",
    ")\n",
    "\n",
    "secondjob = workflow.add(\n",
    "    JobCommand('MySecondJob', command='echo \"I come second\"'),\n",
    "    inpath='MyFolder'\n",
    ")\n",
    "workflow.connect(firstjob, secondjob)\n",
    "run = workflow.run()\n",
    "run.print_output('MySecondJob')"
   ]
  }
 ],
 "metadata": {
  "kernelspec": {
   "display_name": "venv",
   "language": "python",
   "name": "python3"
  },
  "language_info": {
   "codemirror_mode": {
    "name": "ipython",
    "version": 3
   },
   "file_extension": ".py",
   "mimetype": "text/x-python",
   "name": "python",
   "nbconvert_exporter": "python",
   "pygments_lexer": "ipython3",
   "version": "3.12.6"
  }
 },
 "nbformat": 4,
 "nbformat_minor": 2
}
