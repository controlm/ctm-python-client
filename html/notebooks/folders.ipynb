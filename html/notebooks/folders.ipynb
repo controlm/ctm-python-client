{
 "cells": [
  {
   "cell_type": "markdown",
   "metadata": {},
   "source": [
    "# Folders"
   ]
  },
  {
   "cell_type": "code",
   "execution_count": null,
   "metadata": {},
   "outputs": [],
   "source": [
    "from aapi import *"
   ]
  },
  {
   "cell_type": "markdown",
   "metadata": {},
   "source": [
    "## Folder\n",
    "\n",
    "The default type of folder (as opposed to a simple folder) enables you to configure various settings such as scheduling, event management, adding resources, or adding notifications on the folder level. Folder-level definitions are inherited by the jobs or subfolders within the folder.\n",
    "\n",
    "For example, you can specify scheduling criteria on the folder level instead of defining the criteria per job in the folder. All jobs in the folder will take on the rules of the folder. This reduces job definition in code.\n",
    "\n",
    "### Examples"
   ]
  },
  {
   "cell_type": "code",
   "execution_count": null,
   "metadata": {},
   "outputs": [],
   "source": [
    "sample_folder = Folder('MyFolder', job_list=[\n",
    "    JobCommand('Job1', command='echo I am a Job'),\n",
    "    JobCommand('Job2', command='echo I am also a Job'),\n",
    "    JobDummy('Job3'),\n",
    "])"
   ]
  },
  {
   "cell_type": "code",
   "execution_count": null,
   "metadata": {},
   "outputs": [],
   "source": [
    "sample_folder = Folder('MyFolder',\n",
    "                       controlm_server='controlm',\n",
    "                       site_standard='mysitestandard',\n",
    "                       business_fields=[\n",
    "                           {'Department': 'HR'}, {'Company': 'BMC'}],\n",
    "                       order_method=Folder.OrderMethod.Manual\n",
    "                       )\n"
   ]
  },
  {
   "cell_type": "markdown",
   "metadata": {},
   "source": [
    "## SubFolder\n",
    "\n",
    "A subfolder is a folder contained within another (parent) folder or subfolder. A subfolder can contain a group of jobs or a next-level subfolder. Subfolders offer many (but not all) of the capabilities that are offered by regular folders.\n",
    "\n",
    "### Examples"
   ]
  },
  {
   "cell_type": "code",
   "execution_count": null,
   "metadata": {},
   "outputs": [],
   "source": [
    "folder = Folder('FolderWithSubFolders', sub_folder_list=[\n",
    "    SubFolder('FirstSubFolder', job_list=[JobScript(\n",
    "        'Job1', file_name='script.sh', file_path='/home/scripts')]),\n",
    "    SubFolder('SecondSubFolder', job_list=[JobDummy('DummyJob')])\n",
    "])\n"
   ]
  },
  {
   "cell_type": "markdown",
   "metadata": {},
   "source": [
    "## Arguments\n",
    "\n",
    "- **controlm_server** : Specifies a Control-M Scheduling Server. If more than one Control-M Scheduling Server is configured in the system, you must define the server that the folder belongs to\n",
    "- **site_standard** : Enforces the defined Site Standard to the folder and all jobs contained within the folder\n",
    "- **business_fields** : Values for the business fields of the specified Site Standard\n",
    "- **order_method** : Order method (Automatic :  The folder and its jobs are automatically ordered on days specified in the 'When' property, Manual:  The 'When' property is ignored. To order such a folder use the \"ctm run order\" API or Action Type:Run )\n",
    "- **active_retention_policy** : The retention policy for jobs in the folder or subfolder\n",
    "- **job_list** : List of Jobs\n",
    "\n",
    "Other properties are also shared with Jobs, see the notebook **Job and Folder Properties**\n"
   ]
  },
  {
   "cell_type": "code",
   "execution_count": null,
   "metadata": {},
   "outputs": [],
   "source": [
    "folder = Folder('SampleFolder',\n",
    "                controlm_server='ctmserver',\n",
    "                site_standard='sitestd',\n",
    "                business_fields=[{'Department': 'HR'}, {'Company': 'BMC'}],\n",
    "                order_method=Folder.OrderMethod.Manual,\n",
    "                application='ApplicationName',\n",
    "                sub_application='SubApplication',\n",
    "                run_as='controlm',\n",
    "                when=Folder.When(week_days=['SUN']),\n",
    "                active_retention_policy=Folder.ActiveRetentionPolicy.KeepAll,\n",
    "                days_keep_active='41',\n",
    "                confirm=True,\n",
    "                created_by='user',\n",
    "                description='FolderSample with lot of properties set',\n",
    "                priority=Folder.Priority.High,\n",
    "                rerun=Folder.Rerun(every='2'),\n",
    "                rerun_limit=Folder.RerunLimit(times='3'),\n",
    "                time_zone='HAW',\n",
    "                variables=[{'var1': 'val'}, {'var2': 'val2'}],\n",
    "                job_list=[]\n",
    "                )\n"
   ]
  }
 ],
 "metadata": {
  "interpreter": {
   "hash": "e36608863334e111ac1975278d851976534d4d97e80edd449207481e04c86242"
  },
  "kernelspec": {
   "display_name": "Python 3.10.4 ('venv': venv)",
   "language": "python",
   "name": "python3"
  },
  "language_info": {
   "codemirror_mode": {
    "name": "ipython",
    "version": 3
   },
   "file_extension": ".py",
   "mimetype": "text/x-python",
   "name": "python",
   "nbconvert_exporter": "python",
   "pygments_lexer": "ipython3",
   "version": "3.10.4"
  }
 },
 "nbformat": 4,
 "nbformat_minor": 2
}
