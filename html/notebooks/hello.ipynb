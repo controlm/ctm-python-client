{
 "cells": [
  {
   "cell_type": "markdown",
   "metadata": {},
   "source": [
    "# Getting Started with Control-M Python Client"
   ]
  },
  {
   "cell_type": "markdown",
   "metadata": {},
   "source": [
    "## Creating a Workflow\n",
    "\n",
    "To create a workflow, you need to create an instance of a `Workflow` object. You must specify an environment where Control-M Automation API is installed. If you do not have access to Control-M Automation API in your organization or you are trying it on your own PC, use Control-M Workbench:"
   ]
  },
  {
   "cell_type": "code",
   "execution_count": 1,
   "metadata": {},
   "outputs": [],
   "source": [
    "from ctm_python_client.core.workflow import Workflow, WorkflowDefaults\n",
    "from ctm_python_client.core.comm import Environment\n",
    "from aapi.job import *"
   ]
  },
  {
   "cell_type": "code",
   "execution_count": 2,
   "metadata": {},
   "outputs": [],
   "source": [
    "workflow = Workflow(\n",
    "    Environment.create_workbench(),\n",
    "    WorkflowDefaults(\n",
    "        run_as='workbench',     # defining workbench as the user to run the jobs by default\n",
    "    )\n",
    ")"
   ]
  },
  {
   "cell_type": "markdown",
   "metadata": {},
   "source": [
    "## Adding Jobs in the Workflow\n",
    "\n",
    "A job is a task that runs on one or more Agents. Control-M Workbench includes a built-in agent called **worbench**\n",
    "\n",
    "There are multiple job types, and each has a specific purpose. Some job types require specific plugins, such as JobFileTransfer. Let's start with simple JobCommand which is used to execute an OS command: "
   ]
  },
  {
   "cell_type": "code",
   "execution_count": 3,
   "metadata": {},
   "outputs": [],
   "source": [
    "# Creating a JobCommand which outputs \"Hello world!\"\n",
    "\n",
    "myJob = JobCommand('MyFirstJob', command='echo \"Hello world!\"')\n",
    "\n",
    "# Note that the command could be passed also as a positional argument\n",
    "# meaning that JobCommand('MyFirstJob', command='echo \"Hello world!\"')\n",
    "# is the same of JobCommand('MyFirstJob', 'echo \"Hello world!\"')"
   ]
  },
  {
   "cell_type": "markdown",
   "metadata": {},
   "source": [
    "Although a job is created, it is not yet added to the workflow.\n",
    "A job cannot be added as a root object. It can only exist inside a Folder (or SubFolder, SimpleFolder)\n",
    "Either create a Folder and add the job to it, or specify a folder name to add the job to when you add it to the workflow:"
   ]
  },
  {
   "cell_type": "code",
   "execution_count": 4,
   "metadata": {},
   "outputs": [
    {
     "data": {
      "text/plain": [
       "'MyFirstFolder/MyFirstJob'"
      ]
     },
     "execution_count": 4,
     "metadata": {},
     "output_type": "execute_result"
    }
   ],
   "source": [
    "workflow.add(myJob, inpath='MyFirstFolder')\n",
    "\n",
    "# this is equivalent of creating the folder then adding the job in it and the folder in the workflow:\n",
    "#folder = Folder('MyFirstFolder', job_list=[myJob])\n",
    "#workflow.add(folder)"
   ]
  },
  {
   "cell_type": "markdown",
   "metadata": {},
   "source": [
    "## Building and Deploying\n",
    "\n",
    "The validation of the data is done on the Control-M machine, so let's build the workflow and check that everything is valid:"
   ]
  },
  {
   "cell_type": "code",
   "execution_count": 5,
   "metadata": {},
   "outputs": [
    {
     "name": "stdout",
     "output_type": "stream",
     "text": [
      "The workflow is valid!\n"
     ]
    }
   ],
   "source": [
    "if workflow.build().is_ok():\n",
    "    print('The workflow is valid!')"
   ]
  },
  {
   "cell_type": "markdown",
   "metadata": {},
   "source": [
    "Note that the workflow definitions are still in your code and are not yet added to the Control-M Database.\n",
    "\n",
    "**Important**: When you deploy the definitions to Control-M, you overwrite existing definitions. Since you do not recieve a warning that you are overwritting definitions, if you are working on a shared environment, do not use folder names that are used by other users"
   ]
  },
  {
   "cell_type": "code",
   "execution_count": 6,
   "metadata": {},
   "outputs": [
    {
     "name": "stdout",
     "output_type": "stream",
     "text": [
      "The workflow was deployed to Control-M!\n"
     ]
    }
   ],
   "source": [
    "# deploy() also performs build(), so if your intent is to deploy, you may skip the build\n",
    "\n",
    "if workflow.deploy().is_ok():\n",
    "    print('The workflow was deployed to Control-M!')    "
   ]
  },
  {
   "cell_type": "markdown",
   "metadata": {},
   "source": [
    "## Running and checking the output\n",
    "\n",
    "After the job is deployed, it runs according to its schedule, which is every day by default. You can also choose to run the job anytime. When a job runs, a `RunMonitor` is created, which is used to get the status, output and other information of the run"
   ]
  },
  {
   "cell_type": "code",
   "execution_count": 7,
   "metadata": {},
   "outputs": [],
   "source": [
    "# the same way deploy() performs build(), run() perform deploy() and build(), so if you want to run a job\n",
    "# you can directly call run() and it will validate \"build()\" and deploy in Control-M \"deploy()\"\n",
    "run = workflow.run()"
   ]
  },
  {
   "cell_type": "code",
   "execution_count": 8,
   "metadata": {},
   "outputs": [
    {
     "name": "stdout",
     "output_type": "stream",
     "text": [
      "+ echo 'Hello world!'\n",
      "Hello world!\n",
      "\n"
     ]
    }
   ],
   "source": [
    "# print output\n",
    "run.print_output('MyFirstJob')"
   ]
  },
  {
   "cell_type": "markdown",
   "metadata": {},
   "source": [
    "## Flows\n",
    "\n",
    "Now that you know how to create and run a job, let's learn how to create workflows.\n",
    "\n",
    "You use `.connect()` to connect two objects. You can connect Jobs, Folders and SubFolders.\n",
    "If you want to connect multiple jobs in a chain, you can use the `.chain()` method.\n",
    "\n",
    "First, let's add jobs without connecting them. Although jobs exisit in the same Folder, there is no exisitng workflow yet.\n",
    "\n",
    "Then, we can connect any two jobs, Folders, or SubFolders.\n",
    "\n",
    "Finally we can chain multiple jobs in a sequence."
   ]
  },
  {
   "cell_type": "markdown",
   "metadata": {},
   "source": [
    "### Adding jobs without connection"
   ]
  },
  {
   "cell_type": "code",
   "execution_count": 9,
   "metadata": {},
   "outputs": [],
   "source": [
    "# clear the workflow\n",
    "workflow.clear_all()\n",
    "\n",
    "# the .add method returns the path of the job which you can use to connect it with other jobs\n",
    "firstjob = workflow.add(\n",
    "    JobCommand('MyFirstJob', command='echo \"I come first\"'),\n",
    "    inpath='MyFolder'\n",
    ")\n",
    "\n",
    "secondjob = workflow.add(\n",
    "    JobCommand('MySecondJob', command='echo \"I come second\"'),\n",
    "    inpath='MyFolder'\n",
    ")"
   ]
  },
  {
   "cell_type": "markdown",
   "metadata": {},
   "source": [
    "If you want to visusalize the flow that you create, you can use Graphviz. Download Graphviz here: https://graphviz.org/download/\n",
    "\n",
    "**Don't forget to add the binaries folder in PATH. It is prompted in the installation**\n",
    "\n",
    "If you do not require a visual representation of the flow, skip the installation of Graphviz."
   ]
  },
  {
   "cell_type": "code",
   "execution_count": 10,
   "metadata": {},
   "outputs": [
    {
     "data": {
      "image/svg+xml": [
       "<?xml version=\"1.0\" encoding=\"UTF-8\" standalone=\"no\"?>\n",
       "<!DOCTYPE svg PUBLIC \"-//W3C//DTD SVG 1.1//EN\"\n",
       " \"http://www.w3.org/Graphics/SVG/1.1/DTD/svg11.dtd\">\n",
       "<!-- Generated by graphviz version 3.0.0 (20220226.1711)\n",
       " -->\n",
       "<!-- Title: root Pages: 1 -->\n",
       "<svg width=\"167pt\" height=\"153pt\"\n",
       " viewBox=\"0.00 0.00 167.39 153.00\" xmlns=\"http://www.w3.org/2000/svg\" xmlns:xlink=\"http://www.w3.org/1999/xlink\">\n",
       "<g id=\"graph0\" class=\"graph\" transform=\"scale(1 1) rotate(0) translate(4 149)\">\n",
       "<title>root</title>\n",
       "<polygon fill=\"white\" stroke=\"transparent\" points=\"-4,4 -4,-149 163.39,-149 163.39,4 -4,4\"/>\n",
       "<g id=\"clust1\" class=\"cluster\">\n",
       "<title>cluster_0</title>\n",
       "<polygon fill=\"none\" stroke=\"black\" points=\"8,-8 8,-137 151.39,-137 151.39,-8 8,-8\"/>\n",
       "<text text-anchor=\"middle\" x=\"79.69\" y=\"-121.8\" font-family=\"Times New Roman,serif\" font-size=\"14.00\">MyFolder</text>\n",
       "</g>\n",
       "<!-- MyFolder/MyFirstJob -->\n",
       "<g id=\"node1\" class=\"node\">\n",
       "<title>MyFolder/MyFirstJob</title>\n",
       "<ellipse fill=\"none\" stroke=\"black\" cx=\"79.69\" cy=\"-88\" rx=\"52.79\" ry=\"18\"/>\n",
       "<text text-anchor=\"middle\" x=\"79.69\" y=\"-84.3\" font-family=\"Times New Roman,serif\" font-size=\"14.00\">MyFirstJob</text>\n",
       "</g>\n",
       "<!-- MyFolder/MySecondJob -->\n",
       "<g id=\"node2\" class=\"node\">\n",
       "<title>MyFolder/MySecondJob</title>\n",
       "<ellipse fill=\"none\" stroke=\"black\" cx=\"79.69\" cy=\"-34\" rx=\"63.89\" ry=\"18\"/>\n",
       "<text text-anchor=\"middle\" x=\"79.69\" y=\"-30.3\" font-family=\"Times New Roman,serif\" font-size=\"14.00\">MySecondJob</text>\n",
       "</g>\n",
       "</g>\n",
       "</svg>\n"
      ],
      "text/plain": [
       "<graphviz.graphs.Digraph at 0x2445f546110>"
      ]
     },
     "execution_count": 10,
     "metadata": {},
     "output_type": "execute_result"
    }
   ],
   "source": [
    "from ctm_python_client.ext.viz import get_graph\n",
    "\n",
    "get_graph(workflow)"
   ]
  },
  {
   "cell_type": "markdown",
   "metadata": {},
   "source": [
    "Note that the jobs exist but are not connected. Connect jobs as follows:"
   ]
  },
  {
   "cell_type": "markdown",
   "metadata": {},
   "source": [
    "### Connecting two Jobs"
   ]
  },
  {
   "cell_type": "code",
   "execution_count": 11,
   "metadata": {},
   "outputs": [
    {
     "name": "stdout",
     "output_type": "stream",
     "text": [
      "Connecting MyFolder/MyFirstJob to MyFolder/MySecondJob\n"
     ]
    }
   ],
   "source": [
    "print(f'Connecting {firstjob} to {secondjob}')\n",
    "workflow.connect(firstjob, secondjob)"
   ]
  },
  {
   "cell_type": "code",
   "execution_count": 12,
   "metadata": {},
   "outputs": [
    {
     "data": {
      "image/svg+xml": [
       "<?xml version=\"1.0\" encoding=\"UTF-8\" standalone=\"no\"?>\n",
       "<!DOCTYPE svg PUBLIC \"-//W3C//DTD SVG 1.1//EN\"\n",
       " \"http://www.w3.org/Graphics/SVG/1.1/DTD/svg11.dtd\">\n",
       "<!-- Generated by graphviz version 3.0.0 (20220226.1711)\n",
       " -->\n",
       "<!-- Title: root Pages: 1 -->\n",
       "<svg width=\"309pt\" height=\"99pt\"\n",
       " viewBox=\"0.00 0.00 308.68 99.00\" xmlns=\"http://www.w3.org/2000/svg\" xmlns:xlink=\"http://www.w3.org/1999/xlink\">\n",
       "<g id=\"graph0\" class=\"graph\" transform=\"scale(1 1) rotate(0) translate(4 95)\">\n",
       "<title>root</title>\n",
       "<polygon fill=\"white\" stroke=\"transparent\" points=\"-4,4 -4,-95 304.68,-95 304.68,4 -4,4\"/>\n",
       "<g id=\"clust1\" class=\"cluster\">\n",
       "<title>cluster_0</title>\n",
       "<polygon fill=\"none\" stroke=\"black\" points=\"8,-8 8,-83 292.68,-83 292.68,-8 8,-8\"/>\n",
       "<text text-anchor=\"middle\" x=\"150.34\" y=\"-67.8\" font-family=\"Times New Roman,serif\" font-size=\"14.00\">MyFolder</text>\n",
       "</g>\n",
       "<!-- MyFolder/MyFirstJob -->\n",
       "<g id=\"node1\" class=\"node\">\n",
       "<title>MyFolder/MyFirstJob</title>\n",
       "<ellipse fill=\"none\" stroke=\"black\" cx=\"68.65\" cy=\"-34\" rx=\"52.79\" ry=\"18\"/>\n",
       "<text text-anchor=\"middle\" x=\"68.65\" y=\"-30.3\" font-family=\"Times New Roman,serif\" font-size=\"14.00\">MyFirstJob</text>\n",
       "</g>\n",
       "<!-- MyFolder/MySecondJob -->\n",
       "<g id=\"node2\" class=\"node\">\n",
       "<title>MyFolder/MySecondJob</title>\n",
       "<ellipse fill=\"none\" stroke=\"black\" cx=\"220.99\" cy=\"-34\" rx=\"63.89\" ry=\"18\"/>\n",
       "<text text-anchor=\"middle\" x=\"220.99\" y=\"-30.3\" font-family=\"Times New Roman,serif\" font-size=\"14.00\">MySecondJob</text>\n",
       "</g>\n",
       "<!-- MyFolder/MyFirstJob&#45;&gt;MyFolder/MySecondJob -->\n",
       "<g id=\"edge1\" class=\"edge\">\n",
       "<title>MyFolder/MyFirstJob&#45;&gt;MyFolder/MySecondJob</title>\n",
       "<path fill=\"none\" stroke=\"black\" d=\"M121.38,-34C129.69,-34 138.41,-34 147.1,-34\"/>\n",
       "<polygon fill=\"black\" stroke=\"black\" points=\"147.25,-37.5 157.25,-34 147.25,-30.5 147.25,-37.5\"/>\n",
       "</g>\n",
       "</g>\n",
       "</svg>\n"
      ],
      "text/plain": [
       "<graphviz.graphs.Digraph at 0x244625ea470>"
      ]
     },
     "execution_count": 12,
     "metadata": {},
     "output_type": "execute_result"
    }
   ],
   "source": [
    "# Now there is a flow\n",
    "get_graph(workflow)"
   ]
  },
  {
   "cell_type": "markdown",
   "metadata": {},
   "source": [
    "### Chaining Jobs\n",
    "\n",
    "`.connect()` enables you to create a flow to/from any object in the workflow, but it is inconvenint to use this method for a chain. Let's learn how to chain multiple jobs. The `.chain()` method uses multiple `.connect()` methods, so the `.chain()` method is a syntactic sugar used to connect a list of jobs."
   ]
  },
  {
   "cell_type": "code",
   "execution_count": 13,
   "metadata": {},
   "outputs": [
    {
     "data": {
      "image/svg+xml": [
       "<?xml version=\"1.0\" encoding=\"UTF-8\" standalone=\"no\"?>\n",
       "<!DOCTYPE svg PUBLIC \"-//W3C//DTD SVG 1.1//EN\"\n",
       " \"http://www.w3.org/Graphics/SVG/1.1/DTD/svg11.dtd\">\n",
       "<!-- Generated by graphviz version 3.0.0 (20220226.1711)\n",
       " -->\n",
       "<!-- Title: root Pages: 1 -->\n",
       "<svg width=\"456pt\" height=\"99pt\"\n",
       " viewBox=\"0.00 0.00 456.47 99.00\" xmlns=\"http://www.w3.org/2000/svg\" xmlns:xlink=\"http://www.w3.org/1999/xlink\">\n",
       "<g id=\"graph0\" class=\"graph\" transform=\"scale(1 1) rotate(0) translate(4 95)\">\n",
       "<title>root</title>\n",
       "<polygon fill=\"white\" stroke=\"transparent\" points=\"-4,4 -4,-95 452.47,-95 452.47,4 -4,4\"/>\n",
       "<g id=\"clust1\" class=\"cluster\">\n",
       "<title>cluster_0</title>\n",
       "<polygon fill=\"none\" stroke=\"black\" points=\"8,-8 8,-83 440.47,-83 440.47,-8 8,-8\"/>\n",
       "<text text-anchor=\"middle\" x=\"224.23\" y=\"-67.8\" font-family=\"Times New Roman,serif\" font-size=\"14.00\">ChainedJobs</text>\n",
       "</g>\n",
       "<!-- ChainedJobs/MyFirstJob -->\n",
       "<g id=\"node1\" class=\"node\">\n",
       "<title>ChainedJobs/MyFirstJob</title>\n",
       "<ellipse fill=\"none\" stroke=\"black\" cx=\"68.65\" cy=\"-34\" rx=\"52.79\" ry=\"18\"/>\n",
       "<text text-anchor=\"middle\" x=\"68.65\" y=\"-30.3\" font-family=\"Times New Roman,serif\" font-size=\"14.00\">MyFirstJob</text>\n",
       "</g>\n",
       "<!-- ChainedJobs/MySecondJob -->\n",
       "<g id=\"node2\" class=\"node\">\n",
       "<title>ChainedJobs/MySecondJob</title>\n",
       "<ellipse fill=\"none\" stroke=\"black\" cx=\"220.99\" cy=\"-34\" rx=\"63.89\" ry=\"18\"/>\n",
       "<text text-anchor=\"middle\" x=\"220.99\" y=\"-30.3\" font-family=\"Times New Roman,serif\" font-size=\"14.00\">MySecondJob</text>\n",
       "</g>\n",
       "<!-- ChainedJobs/MyFirstJob&#45;&gt;ChainedJobs/MySecondJob -->\n",
       "<g id=\"edge1\" class=\"edge\">\n",
       "<title>ChainedJobs/MyFirstJob&#45;&gt;ChainedJobs/MySecondJob</title>\n",
       "<path fill=\"none\" stroke=\"black\" d=\"M121.38,-34C129.69,-34 138.41,-34 147.1,-34\"/>\n",
       "<polygon fill=\"black\" stroke=\"black\" points=\"147.25,-37.5 157.25,-34 147.25,-30.5 147.25,-37.5\"/>\n",
       "</g>\n",
       "<!-- ChainedJobs/MyThirdJob -->\n",
       "<g id=\"node3\" class=\"node\">\n",
       "<title>ChainedJobs/MyThirdJob</title>\n",
       "<ellipse fill=\"none\" stroke=\"black\" cx=\"376.57\" cy=\"-34\" rx=\"55.79\" ry=\"18\"/>\n",
       "<text text-anchor=\"middle\" x=\"376.57\" y=\"-30.3\" font-family=\"Times New Roman,serif\" font-size=\"14.00\">MyThirdJob</text>\n",
       "</g>\n",
       "<!-- ChainedJobs/MySecondJob&#45;&gt;ChainedJobs/MyThirdJob -->\n",
       "<g id=\"edge2\" class=\"edge\">\n",
       "<title>ChainedJobs/MySecondJob&#45;&gt;ChainedJobs/MyThirdJob</title>\n",
       "<path fill=\"none\" stroke=\"black\" d=\"M284.9,-34C293.26,-34 301.85,-34 310.26,-34\"/>\n",
       "<polygon fill=\"black\" stroke=\"black\" points=\"310.38,-37.5 320.38,-34 310.38,-30.5 310.38,-37.5\"/>\n",
       "</g>\n",
       "</g>\n",
       "</svg>\n"
      ],
      "text/plain": [
       "<graphviz.graphs.Digraph at 0x2445f5464d0>"
      ]
     },
     "execution_count": 13,
     "metadata": {},
     "output_type": "execute_result"
    }
   ],
   "source": [
    "# let's clear the workflow\n",
    "workflow.clear_all()\n",
    "\n",
    "workflow.chain(\n",
    "    [\n",
    "        JobCommand('MyFirstJob', 'echo \"First!\"'),\n",
    "        JobCommand('MySecondJob', 'echo \"Second!\"'),\n",
    "        JobCommand('MyThirdJob', 'echo \"Third!\"', run_as_dummy=True),\n",
    "    ],\n",
    "    inpath='ChainedJobs'\n",
    ")\n",
    "\n",
    "get_graph(workflow)"
   ]
  },
  {
   "cell_type": "markdown",
   "metadata": {},
   "source": [
    "## Dummy Jobs and run_as_dummy\n",
    "\n",
    "Control-M offers two ways to test a workflow and run jobs without running any real task:\n",
    "\n",
    "- `JobDummy`: Creates a job type that does nothing but you define all the parameters as any other job type.\n",
    "\n",
    "- `run_as_dummy=True`: Adds a new parameter to any regular job type that makes it run as a dummy job. You can mark `run_as_dummy=False` to make it run again as a regular job."
   ]
  },
  {
   "cell_type": "code",
   "execution_count": 14,
   "metadata": {},
   "outputs": [
    {
     "name": "stdout",
     "output_type": "stream",
     "text": [
      "+ echo Hello\n",
      "Hello\n",
      "\n",
      "+ echo Hello2\n",
      "Hello2\n",
      "\n"
     ]
    }
   ],
   "source": [
    "\n",
    "workflow.clear_all()\n",
    "\n",
    "workflow.chain(\n",
    "    [\n",
    "        JobDummy('Dummy'),\n",
    "        JobCommand('MyJob1', command='echo \"Hello\"'),\n",
    "        JobCommand('MyJob2', command='echo \"Hello2\"'),\n",
    "    ],\n",
    "    inpath='TestJobDummy'\n",
    ")\n",
    "\n",
    "run = workflow.run()\n",
    "\n",
    "import time\n",
    "time.sleep(2) # Give some time for the flow to finish\n",
    "\n",
    "# No output for a JobDummy\n",
    "output = run.get_output('Dummy')\n",
    "assert output is None\n",
    "\n",
    "# Output for a JobCommand\n",
    "output = run.get_output('MyJob1')\n",
    "assert output is not None\n",
    "print(output)\n",
    "\n",
    "# Output for a JobCommand\n",
    "output = run.get_output('MyJob2')\n",
    "assert output is not None\n",
    "print(output)\n"
   ]
  },
  {
   "cell_type": "code",
   "execution_count": 15,
   "metadata": {},
   "outputs": [
    {
     "name": "stdout",
     "output_type": "stream",
     "text": [
      "+ echo Hello\n",
      "Hello\n",
      "\n"
     ]
    }
   ],
   "source": [
    "workflow.get('TestJobDummy/MyJob2').run_as_dummy = True\n",
    "run = workflow.run()\n",
    "\n",
    "import time\n",
    "time.sleep(2) # Give some time for the flow to finish\n",
    "\n",
    "# No output for a JobDummy\n",
    "output = run.get_output('Dummy')\n",
    "assert output is None\n",
    "\n",
    "# Output for a JobCommand\n",
    "output = run.get_output('MyJob1')\n",
    "assert output is not None\n",
    "print(output)\n",
    "\n",
    "# Output for a JobCommand\n",
    "output = run.get_output('MyJob2')\n",
    "assert output is None       # MyJob2 was marked to run as dummy, we should not receive any output for this job"
   ]
  }
 ],
 "metadata": {
  "kernelspec": {
   "display_name": "Python 3.10.4 ('venv': venv)",
   "language": "python",
   "name": "python3"
  },
  "language_info": {
   "codemirror_mode": {
    "name": "ipython",
    "version": 3
   },
   "file_extension": ".py",
   "mimetype": "text/x-python",
   "name": "python",
   "nbconvert_exporter": "python",
   "pygments_lexer": "ipython3",
   "version": "3.10.4"
  },
  "vscode": {
   "interpreter": {
    "hash": "e36608863334e111ac1975278d851976534d4d97e80edd449207481e04c86242"
   }
  }
 },
 "nbformat": 4,
 "nbformat_minor": 2
}
